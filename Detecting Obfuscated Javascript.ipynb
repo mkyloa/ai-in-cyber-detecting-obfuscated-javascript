{
 "cells": [
  {
   "cell_type": "code",
   "execution_count": 1,
   "metadata": {},
   "outputs": [
    {
     "name": "stdout",
     "output_type": "stream",
     "text": [
      "0.9640933572710951\n",
      "[[610  25]\n",
      " [ 15 464]]\n"
     ]
    }
   ],
   "source": [
    "import os\n",
    "from sklearn.feature_extraction.text import HashingVectorizer, TfidfTransformer\n",
    "from sklearn.ensemble import RandomForestClassifier\n",
    "from sklearn.model_selection import train_test_split\n",
    "from sklearn.metrics import accuracy_score, confusion_matrix\n",
    "from sklearn.pipeline import Pipeline\n",
    "\n",
    "js_path = \"JavascriptSamples\"\n",
    "obfuscated_js_path = \"JavascriptSamplesObfuscated\"\n",
    "\n",
    "corpus = []\n",
    "labels = []\n",
    "\n",
    "\n",
    "file_types_and_labels = [(js_path, 0), (obfuscated_js_path, 1)]\n",
    "\n",
    "for files_path, label in file_types_and_labels:\n",
    "    files = os.listdir(files_path)\n",
    "    for file in files:\n",
    "        file_path = files_path + \"/\" + file\n",
    "        try:\n",
    "            with open(file_path, \"r\") as myfile:\n",
    "                data = myfile.read().replace(\"\\n\", \"\")\n",
    "                data = str(data)\n",
    "                corpus.append(data)\n",
    "                labels.append(label)\n",
    "        except:\n",
    "            pass\n",
    "\n",
    "X_train, X_test, y_train, y_test = train_test_split(\n",
    "    corpus, labels, test_size=0.33, random_state=42\n",
    ")\n",
    "text_clf = Pipeline(\n",
    "    [\n",
    "        (\"vect\", HashingVectorizer(input=\"content\", ngram_range=(1, 3))),\n",
    "        (\"tfidf\", TfidfTransformer(use_idf=True,)),\n",
    "        (\"rf\", RandomForestClassifier(class_weight=\"balanced\")),\n",
    "    ]\n",
    ")\n",
    "text_clf.fit(X_train, y_train)\n",
    "\n",
    "y_test_pred = text_clf.predict(X_test)\n",
    "\n",
    "print(accuracy_score(y_test, y_test_pred))\n",
    "print(confusion_matrix(y_test, y_test_pred))"
   ]
  },
  {
   "cell_type": "code",
   "execution_count": null,
   "metadata": {},
   "outputs": [],
   "source": []
  }
 ],
 "metadata": {
  "kernelspec": {
   "display_name": "Python 3 (ipykernel)",
   "language": "python",
   "name": "python3"
  },
  "language_info": {
   "codemirror_mode": {
    "name": "ipython",
    "version": 3
   },
   "file_extension": ".py",
   "mimetype": "text/x-python",
   "name": "python",
   "nbconvert_exporter": "python",
   "pygments_lexer": "ipython3",
   "version": "3.10.4"
  }
 },
 "nbformat": 4,
 "nbformat_minor": 4
}
